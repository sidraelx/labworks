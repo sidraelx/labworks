{
  "cells": [
    {
      "cell_type": "markdown",
      "metadata": {
        "id": "view-in-github",
        "colab_type": "text"
      },
      "source": [
        "<a href=\"https://colab.research.google.com/github/sidraelx/labworks/blob/main/nlp_lab.ipynb\" target=\"_parent\"><img src=\"https://colab.research.google.com/assets/colab-badge.svg\" alt=\"Open In Colab\"/></a>"
      ]
    },
    {
      "cell_type": "code",
      "execution_count": null,
      "metadata": {
        "id": "lIYdn1woOS1n"
      },
      "outputs": [],
      "source": [
        "!pip install flair"
      ]
    },
    {
      "cell_type": "code",
      "source": [
        "!ls"
      ],
      "metadata": {
        "id": "nF8W5iyChEyI"
      },
      "execution_count": null,
      "outputs": []
    },
    {
      "cell_type": "code",
      "source": [
        "from flair.data import Sentence\n",
        "from flair.nn import Classifier\n",
        "import pandas as pd\n",
        "\n",
        "#Read your CSV file\n",
        "df = pd.read_csv('/content/alopecia and microbiome (2).csv')\n",
        "tagger = Classifier.load('bioner')\n",
        "abs=df['abstract'] #Extract only the abstract column\n",
        "\n",
        "#Tag abstract for important keywords in a loop and append to an empty list\n",
        "result_list = []\n",
        "for i in abs:\n",
        "    # Check if the abstract is not NaN\n",
        "    if not pd.isna(i):\n",
        "        sentence = Sentence(i)\n",
        "        tagger.predict(sentence)\n",
        "        result_list.append(sentence)\n",
        "\n",
        "#View results\n",
        "result_list #Copy paste this excel"
      ],
      "metadata": {
        "id": "3JnsgLQ-iMrm"
      },
      "execution_count": null,
      "outputs": []
    }
  ],
  "metadata": {
    "colab": {
      "provenance": [],
      "gpuType": "T4",
      "include_colab_link": true
    },
    "kernelspec": {
      "display_name": "Python 3",
      "name": "python3"
    },
    "accelerator": "GPU"
  },
  "nbformat": 4,
  "nbformat_minor": 0
}
